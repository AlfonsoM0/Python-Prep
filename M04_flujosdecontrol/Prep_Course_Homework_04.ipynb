{
 "cells": [
  {
   "attachments": {},
   "cell_type": "markdown",
   "metadata": {},
   "source": [
    "## Flujos de Control"
   ]
  },
  {
   "attachments": {},
   "cell_type": "markdown",
   "metadata": {},
   "source": [
    "1) Crear una variable que contenga un elemento del conjunto de números enteros y luego imprimir por pantalla si es mayor o menor a cero"
   ]
  },
  {
   "cell_type": "code",
   "execution_count": 1,
   "metadata": {},
   "outputs": [
    {
     "name": "stdout",
     "output_type": "stream",
     "text": [
      "Variable mayor a cero.\n"
     ]
    }
   ],
   "source": [
    "a=10\n",
    "\n",
    "if a > 0:\n",
    "    print(\"Variable mayor a cero.\")\n",
    "elif a < 0:\n",
    "    print(\"Variable menor a cero.\")\n",
    "else:\n",
    "    print(\"Variable igual a cero\")"
   ]
  },
  {
   "attachments": {},
   "cell_type": "markdown",
   "metadata": {},
   "source": [
    "2) Crear dos variables y un condicional que informe si son del mismo tipo de dato"
   ]
  },
  {
   "cell_type": "code",
   "execution_count": 2,
   "metadata": {},
   "outputs": [
    {
     "name": "stdout",
     "output_type": "stream",
     "text": [
      "Distinto tipo de dato.\n"
     ]
    }
   ],
   "source": [
    "a=1\n",
    "b=\"1\"\n",
    "\n",
    "if type(a) == type(b):\n",
    "    print(\"Mismo tipo de dato.\")\n",
    "else: \n",
    "   print(\"Distinto tipo de dato.\")"
   ]
  },
  {
   "attachments": {},
   "cell_type": "markdown",
   "metadata": {},
   "source": [
    "3) Para los valores enteros del 1 al 20, imprimir por pantalla si es par o impar"
   ]
  },
  {
   "cell_type": "code",
   "execution_count": 4,
   "metadata": {},
   "outputs": [
    {
     "name": "stdout",
     "output_type": "stream",
     "text": [
      "Impar 1\n",
      "Par 2\n",
      "Impar 3\n",
      "Par 4\n",
      "Impar 5\n",
      "Par 6\n",
      "Impar 7\n",
      "Par 8\n",
      "Impar 9\n",
      "Par 10\n",
      "Impar 11\n",
      "Par 12\n",
      "Impar 13\n",
      "Par 14\n",
      "Impar 15\n",
      "Par 16\n",
      "Impar 17\n",
      "Par 18\n",
      "Impar 19\n"
     ]
    }
   ],
   "source": [
    "for i in range(1,20):\n",
    "    if i % 2 == 0:\n",
    "        print(\"Par\", i)\n",
    "    else:\n",
    "        print(\"Impar\", i)"
   ]
  },
  {
   "attachments": {},
   "cell_type": "markdown",
   "metadata": {},
   "source": [
    "4) En un ciclo for mostrar para los valores entre 0 y 5 el resultado de elevarlo a la potencia igual a 3"
   ]
  },
  {
   "cell_type": "code",
   "execution_count": 5,
   "metadata": {},
   "outputs": [
    {
     "name": "stdout",
     "output_type": "stream",
     "text": [
      "0\n",
      "1\n",
      "8\n",
      "27\n",
      "64\n"
     ]
    }
   ],
   "source": [
    "for i in range(0,5):\n",
    "    print(i ** 3)"
   ]
  },
  {
   "attachments": {},
   "cell_type": "markdown",
   "metadata": {},
   "source": [
    "5) Crear una variable que contenga un número entero y realizar un ciclo for la misma cantidad de ciclos"
   ]
  },
  {
   "cell_type": "code",
   "execution_count": 8,
   "metadata": {},
   "outputs": [
    {
     "name": "stdout",
     "output_type": "stream",
     "text": [
      "0\n",
      "1\n",
      "2\n",
      "3\n",
      "4\n"
     ]
    }
   ],
   "source": [
    "n=5\n",
    "for i in range(0,n):\n",
    "    pass #\"pass\" para evitar un error por no poner contenido en un loop.\n",
    "    print(i)"
   ]
  },
  {
   "attachments": {},
   "cell_type": "markdown",
   "metadata": {},
   "source": [
    "6) Utilizar un ciclo while para realizar el factorial de un número guardado en una variable, sólo si la variable contiene un número entero mayor a 0"
   ]
  },
  {
   "cell_type": "code",
   "execution_count": 16,
   "metadata": {},
   "outputs": [
    {
     "name": "stdout",
     "output_type": "stream",
     "text": [
      "Factorial =  6\n"
     ]
    }
   ],
   "source": [
    "n=3\n",
    "\n",
    "if (type(n) == int) and n > 0:\n",
    "    fac = n\n",
    "    while n > 2:\n",
    "        n -= 1\n",
    "        fac *= n\n",
    "    \n",
    "    print(\"Factorial = \", fac)\n",
    "else:\n",
    "    print(\"La variable no es un entero positivo.\")"
   ]
  },
  {
   "attachments": {},
   "cell_type": "markdown",
   "metadata": {},
   "source": [
    "7) Crear un ciclo for dentro de un ciclo while"
   ]
  },
  {
   "cell_type": "code",
   "execution_count": 18,
   "metadata": {},
   "outputs": [
    {
     "name": "stdout",
     "output_type": "stream",
     "text": [
      "0\n",
      "1\n",
      "2\n",
      "3\n",
      "4\n",
      "0\n",
      "1\n",
      "2\n",
      "3\n",
      "0\n",
      "1\n",
      "2\n",
      "0\n",
      "1\n",
      "0\n"
     ]
    }
   ],
   "source": [
    "n = 5\n",
    "\n",
    "while n > 0:\n",
    "    for i in range(0,n):\n",
    "        print(i)\n",
    "    n-=1"
   ]
  },
  {
   "attachments": {},
   "cell_type": "markdown",
   "metadata": {},
   "source": [
    "8) Crear un ciclo while dentro de un ciclo for"
   ]
  },
  {
   "cell_type": "code",
   "execution_count": 21,
   "metadata": {},
   "outputs": [
    {
     "name": "stdout",
     "output_type": "stream",
     "text": [
      "5\n",
      "4\n",
      "3\n",
      "2\n",
      "1\n",
      "5\n",
      "4\n",
      "3\n",
      "2\n",
      "1\n",
      "5\n",
      "4\n",
      "3\n",
      "2\n",
      "1\n",
      "5\n",
      "4\n",
      "3\n",
      "2\n",
      "1\n",
      "5\n",
      "4\n",
      "3\n",
      "2\n",
      "1\n"
     ]
    }
   ],
   "source": [
    "n = 5\n",
    "\n",
    "for i in range(0,n):\n",
    "    m = n\n",
    "    while m > 0:\n",
    "        print(m)\n",
    "        m -= 1"
   ]
  },
  {
   "attachments": {},
   "cell_type": "markdown",
   "metadata": {},
   "source": [
    "9) Imprimir los números primos existentes entre 0 y 30"
   ]
  },
  {
   "cell_type": "code",
   "execution_count": 27,
   "metadata": {},
   "outputs": [
    {
     "name": "stdout",
     "output_type": "stream",
     "text": [
      "2\n",
      "3\n",
      "5\n",
      "7\n",
      "11\n",
      "13\n",
      "17\n",
      "19\n",
      "23\n",
      "29\n"
     ]
    }
   ],
   "source": [
    "n = 30\n",
    "\n",
    "for i in range(2,n):\n",
    "    primo = True\n",
    "\n",
    "    for j in range(2, i):\n",
    "        if (i % j == 0):\n",
    "            primo = False\n",
    "    \n",
    "    if (primo):\n",
    "        print(i)\n",
    "            "
   ]
  },
  {
   "attachments": {},
   "cell_type": "markdown",
   "metadata": {},
   "source": [
    "10) ¿Se puede mejorar el proceso del punto 9? Utilizar las sentencias break y/ó continue para tal fin"
   ]
  },
  {
   "cell_type": "code",
   "execution_count": 3,
   "metadata": {},
   "outputs": [
    {
     "name": "stdout",
     "output_type": "stream",
     "text": [
      "2\n",
      "3\n",
      "5\n",
      "7\n",
      "11\n",
      "13\n",
      "17\n",
      "19\n",
      "23\n",
      "29\n"
     ]
    }
   ],
   "source": [
    "n = 30\n",
    "\n",
    "for i in range(2,n):\n",
    "  a = i\n",
    "  if i == 2: print(2)\n",
    "\n",
    "  for j in range(2, i):\n",
    "\n",
    "    if (i % j == 0):\n",
    "      break\n",
    "\n",
    "    elif (i == j + 1):\n",
    "      print(a)"
   ]
  },
  {
   "attachments": {},
   "cell_type": "markdown",
   "metadata": {},
   "source": [
    "11) En los puntos 9 y 10, se diseño un código que encuentra números primos y además se lo optimizó. ¿Es posible saber en qué medida se optimizó?"
   ]
  },
  {
   "cell_type": "code",
   "execution_count": 41,
   "metadata": {},
   "outputs": [
    {
     "name": "stdout",
     "output_type": "stream",
     "text": [
      "Ciclos sin Break = 378\n",
      "Ciclos con Break = 134\n"
     ]
    }
   ],
   "source": [
    "n = 30\n",
    "\n",
    "ciclos_sin_break = 0\n",
    "ciclos_con_break = 0\n",
    "\n",
    "for i in range(2,n):\n",
    "  primo = True\n",
    "\n",
    "  for j in range(2, i):\n",
    "    ciclos_sin_break +=1\n",
    "    if (i % j == 0):\n",
    "      primo = False\n",
    "  \n",
    "  if (primo):\n",
    "    # print(i)\n",
    "    pass\n",
    "\n",
    "for i in range(2,n):\n",
    "  a = i\n",
    "\n",
    "  for j in range(2, i):\n",
    "    ciclos_con_break += 1\n",
    "\n",
    "    if (i % j == 0):\n",
    "      break\n",
    "\n",
    "    elif (i == j + 1):\n",
    "      # print(a)\n",
    "      pass\n",
    "\n",
    "print(\"Ciclos sin Break = \" + str(ciclos_sin_break))\n",
    "print(\"Ciclos con Break = \" + str(ciclos_con_break))"
   ]
  },
  {
   "attachments": {},
   "cell_type": "markdown",
   "metadata": {},
   "source": [
    "12) Si la cantidad de números que se evalúa es mayor a treinta, esa optimización crece?"
   ]
  },
  {
   "cell_type": "code",
   "execution_count": 42,
   "metadata": {},
   "outputs": [
    {
     "name": "stdout",
     "output_type": "stream",
     "text": [
      "Ciclos sin Break = 4753\n",
      "Ciclos con Break = 1132\n"
     ]
    }
   ],
   "source": [
    "n = 100\n",
    "\n",
    "ciclos_sin_break = 0\n",
    "ciclos_con_break = 0\n",
    "\n",
    "for i in range(2,n):\n",
    "  primo = True\n",
    "\n",
    "  for j in range(2, i):\n",
    "    ciclos_sin_break +=1\n",
    "    if (i % j == 0):\n",
    "      primo = False\n",
    "  \n",
    "  if (primo):\n",
    "    # print(i)\n",
    "    pass\n",
    "\n",
    "for i in range(2,n):\n",
    "  a = i\n",
    "\n",
    "  for j in range(2, i):\n",
    "    ciclos_con_break += 1\n",
    "\n",
    "    if (i % j == 0):\n",
    "      break\n",
    "\n",
    "    elif (i == j + 1):\n",
    "      # print(a)\n",
    "      pass\n",
    "\n",
    "print(\"Ciclos sin Break = \" + str(ciclos_sin_break))\n",
    "print(\"Ciclos con Break = \" + str(ciclos_con_break))"
   ]
  },
  {
   "attachments": {},
   "cell_type": "markdown",
   "metadata": {},
   "source": [
    "13) Aplicando continue, armar un ciclo while que solo imprima los valores divisibles por 12, dentro del rango de números de 100 a 300"
   ]
  },
  {
   "cell_type": "code",
   "execution_count": 47,
   "metadata": {},
   "outputs": [
    {
     "name": "stdout",
     "output_type": "stream",
     "text": [
      "108\n",
      "120\n",
      "132\n",
      "144\n",
      "156\n",
      "168\n",
      "180\n",
      "192\n",
      "204\n",
      "216\n",
      "228\n",
      "240\n",
      "252\n",
      "264\n",
      "276\n",
      "288\n",
      "300\n"
     ]
    }
   ],
   "source": [
    "start = 100\n",
    "end = 300\n",
    "divisiblePor = 12\n",
    "\n",
    "while start -1 <= 300:\n",
    "    start += 1\n",
    "    if start % divisiblePor != 0:\n",
    "        continue\n",
    "    print(start)"
   ]
  },
  {
   "attachments": {},
   "cell_type": "markdown",
   "metadata": {},
   "source": [
    "14) Utilizar la función **input()** que permite hacer ingresos por teclado, para encontrar números primos y dar la opción al usario de buscar el siguiente"
   ]
  },
  {
   "cell_type": "code",
   "execution_count": 5,
   "metadata": {},
   "outputs": [
    {
     "name": "stdout",
     "output_type": "stream",
     "text": [
      "Ingrese el rango de búsqueda de números primos.\n",
      "2\n",
      "3\n",
      "5\n",
      "7\n",
      "Si desea seguir buscando, agregue un valor para sumar al rango.        Si no desa seguir buscando, agregue cero.\n",
      "13\n",
      "17\n",
      "19\n",
      "Si desea seguir buscando, agregue un valor para sumar al rango.        Si no desa seguir buscando, agregue cero.\n",
      "23\n",
      "29\n",
      "Si desea seguir buscando, agregue un valor para sumar al rango.        Si no desa seguir buscando, agregue cero.\n",
      "37\n",
      "Si desea seguir buscando, agregue un valor para sumar al rango.        Si no desa seguir buscando, agregue cero.\n",
      "Fin de la búsqueda.\n"
     ]
    }
   ],
   "source": [
    "print(\"Ingrese el rango de búsqueda de números primos.\")\n",
    "n = int(input())\n",
    "m = 2\n",
    "buscar = 1\n",
    "\n",
    "while buscar == 1:\n",
    "  for i in range(m,n):\n",
    "    a = i\n",
    "    if i == 2:\n",
    "      print(2)\n",
    "    else:\n",
    "      for j in range(2, i):\n",
    "\n",
    "        if (i % j == 0):\n",
    "          break\n",
    "\n",
    "        elif (i == j + 1):\n",
    "          print(a)\n",
    "  \n",
    "  print(\"Si desea seguir buscando, agregue un valor para sumar al rango.\\\n",
    "        Si no desa seguir buscando, agregue cero.\")\n",
    "  newValue = int(input())\n",
    "  if newValue == 0:\n",
    "    print(\"Fin de la búsqueda.\")\n",
    "    break\n",
    "  else:\n",
    "    n += newValue\n",
    "    m += newValue"
   ]
  },
  {
   "attachments": {},
   "cell_type": "markdown",
   "metadata": {},
   "source": [
    "15) Crear un ciclo while que encuentre dentro del rango de 100 a 300 el primer número divisible por 3 y además múltiplo de 6"
   ]
  },
  {
   "cell_type": "code",
   "execution_count": 8,
   "metadata": {},
   "outputs": [
    {
     "name": "stdout",
     "output_type": "stream",
     "text": [
      "102\n"
     ]
    }
   ],
   "source": [
    "start = 100\n",
    "end = 300\n",
    "\n",
    "while start < 300:\n",
    "    if (start % 6 == 0):\n",
    "        print(start)\n",
    "        break\n",
    "    start += 1"
   ]
  }
 ],
 "metadata": {
  "interpreter": {
   "hash": "c85384e4cb51c8b72350f3a8712cc8351fdc3955e32a27f9b60c6242ab125f01"
  },
  "kernelspec": {
   "display_name": "Python 3 (ipykernel)",
   "language": "python",
   "name": "python3"
  },
  "language_info": {
   "codemirror_mode": {
    "name": "ipython",
    "version": 3
   },
   "file_extension": ".py",
   "mimetype": "text/x-python",
   "name": "python",
   "nbconvert_exporter": "python",
   "pygments_lexer": "ipython3",
   "version": "3.11.0"
  }
 },
 "nbformat": 4,
 "nbformat_minor": 4
}
