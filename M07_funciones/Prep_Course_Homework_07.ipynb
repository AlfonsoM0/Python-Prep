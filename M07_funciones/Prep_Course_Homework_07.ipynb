{
 "cells": [
  {
   "attachments": {},
   "cell_type": "markdown",
   "metadata": {},
   "source": [
    "## Funciones"
   ]
  },
  {
   "attachments": {},
   "cell_type": "markdown",
   "metadata": {},
   "source": [
    "1) Crear una función que reciba un número como parámetro y devuelva True si es primo y False si no lo es"
   ]
  },
  {
   "cell_type": "code",
   "execution_count": 10,
   "metadata": {},
   "outputs": [
    {
     "data": {
      "text/plain": [
       "False"
      ]
     },
     "execution_count": 10,
     "metadata": {},
     "output_type": "execute_result"
    }
   ],
   "source": [
    "def esPrimo(num):\n",
    "    if num < 2: return False\n",
    "\n",
    "    for i in range(2, num):\n",
    "        if num % i == 0: return False\n",
    "        break\n",
    "    \n",
    "    return True\n",
    "\n",
    "esPrimo(120)"
   ]
  },
  {
   "attachments": {},
   "cell_type": "markdown",
   "metadata": {},
   "source": [
    "2) Utilizando la función del punto 1, realizar otra función que reciba de parámetro una lista de números y devuelva sólo aquellos que son primos en otra lista"
   ]
  },
  {
   "cell_type": "code",
   "execution_count": 11,
   "metadata": {},
   "outputs": [
    {
     "name": "stdout",
     "output_type": "stream",
     "text": [
      "[2, 3, 5, 7, 9]\n"
     ]
    }
   ],
   "source": [
    "numList = [1,2,3,4,5,6,7,8,9,10]\n",
    "\n",
    "def filtroPrimos(lista):\n",
    "    newLista = []\n",
    "    for e in lista:\n",
    "        if esPrimo(e):\n",
    "            newLista.append(e)\n",
    "\n",
    "    return newLista\n",
    "\n",
    "print (filtroPrimos(numList))"
   ]
  },
  {
   "attachments": {},
   "cell_type": "markdown",
   "metadata": {},
   "source": [
    "3) Crear una función que al recibir una lista de números, devuelva el que más se repite y cuántas veces lo hace. Si hay más de un \"más repetido\", que devuelva cualquiera"
   ]
  },
  {
   "cell_type": "code",
   "execution_count": 35,
   "metadata": {},
   "outputs": [
    {
     "data": {
      "text/plain": [
       "'El número [1, 5, 7, 9] se repite 2 veces.'"
      ]
     },
     "execution_count": 35,
     "metadata": {},
     "output_type": "execute_result"
    }
   ],
   "source": [
    "repNumList1 = [1,1,2,3,4,5,5,6,7,7,8,3,3,3,3,3]\n",
    "repNumList2 = [1,1,2,3,4,5,5,6,7,7,8,9,9]\n",
    "\n",
    "def numMasrepetido(lista):\n",
    "    registro = {}\n",
    "    numsMasRep = []\n",
    "    vecesRep = 0\n",
    "\n",
    "    for num in lista:\n",
    "        if num in registro:\n",
    "            registro[num]+= 1\n",
    "        else:\n",
    "            registro[num] = 1\n",
    "    \n",
    "    for k, v in registro.items():\n",
    "        if v > vecesRep:\n",
    "            vecesRep = v\n",
    "\n",
    "    for x, y in registro.items():\n",
    "        if y == vecesRep:\n",
    "            numsMasRep.append(x)\n",
    "\n",
    "    return f\"El número {numsMasRep} se repite {vecesRep} veces.\"\n",
    "\n",
    "\n",
    "numMasrepetido(repNumList2)"
   ]
  },
  {
   "attachments": {},
   "cell_type": "markdown",
   "metadata": {},
   "source": [
    "4) A la función del punto 3, agregar un parámetro más, que permita elegir si se requiere el menor o el mayor de los mas repetidos."
   ]
  },
  {
   "cell_type": "code",
   "execution_count": 37,
   "metadata": {},
   "outputs": [
    {
     "name": "stdout",
     "output_type": "stream",
     "text": [
      "hay más de un número.              ¿Quieres el mayor o el menor?\n"
     ]
    },
    {
     "data": {
      "text/plain": [
       "'El número 1 se repite 2 veces.'"
      ]
     },
     "execution_count": 37,
     "metadata": {},
     "output_type": "execute_result"
    }
   ],
   "source": [
    "repNumList1 = [1,1,2,3,4,5,5,6,7,7,8,3,3,3,3,3]\n",
    "repNumList2 = [1,1,2,3,4,5,5,6,7,7,8,9,9]\n",
    "\n",
    "def numMasrepetido(lista):\n",
    "    registro = {}\n",
    "    numsMasRep = []\n",
    "    vecesRep = 0\n",
    "\n",
    "    for num in lista:\n",
    "        if num in registro:\n",
    "            registro[num]+= 1\n",
    "        else:\n",
    "            registro[num] = 1\n",
    "    \n",
    "    for k, v in registro.items():\n",
    "        if v > vecesRep:\n",
    "            vecesRep = v\n",
    "\n",
    "    for x, y in registro.items():\n",
    "        if y == vecesRep:\n",
    "            numsMasRep.append(x)\n",
    "\n",
    "    option = ''\n",
    "    if len(numsMasRep) > 1:\n",
    "        print(\"hay más de un número.\\\n",
    "              ¿Quieres el mayor o el menor?\")\n",
    "        option = input(\"indica: mayor/menor\")\n",
    "    \n",
    "    if option == 'mayor':\n",
    "        return f\"El número {max(numsMasRep)} se repite {vecesRep} veces.\"\n",
    "    else:\n",
    "        return f\"El número {min(numsMasRep)} se repite {vecesRep} veces.\"\n",
    "  \n",
    "\n",
    "\n",
    "numMasrepetido(repNumList2)"
   ]
  },
  {
   "attachments": {},
   "cell_type": "markdown",
   "metadata": {},
   "source": [
    "5) Crear una función que convierta entre grados Celsius, Farenheit y Kelvin<br>\n",
    "Fórmula 1\t: (°C × 9/5) + 32 = °F<br>\n",
    "Fórmula 2\t: °C + 273.15 = °K<br>\n",
    "Debe recibir 3 parámetros: el valor, la medida de orígen y la medida de destino\n"
   ]
  },
  {
   "cell_type": "code",
   "execution_count": 46,
   "metadata": {},
   "outputs": [
    {
     "name": "stdout",
     "output_type": "stream",
     "text": [
      "68.0\n"
     ]
    }
   ],
   "source": [
    "def conversorGradosCoFoK(valor, origen, destino):\n",
    "    metodosDeConversion = {\n",
    "        \"CaC\": valor,\n",
    "        \"CaF\": (valor * 9/5) + 32,\n",
    "        \"CaK\": valor + 273.15,\n",
    "        \"FaF\": valor,\n",
    "        \"FaC\": (valor -32) * 5/9,\n",
    "        \"FaK\": ((valor - 32) * 5 / 9) + 273.15,\n",
    "        \"KaK\": valor,\n",
    "        \"KaC\": valor - 273.15,\n",
    "        \"KaF\": ((valor - 273.15) * 9 / 5) + 32  \n",
    "    }\n",
    "\n",
    "    resultado = ''\n",
    "    if (origen + \"a\" + destino) in metodosDeConversion:\n",
    "        resultado = metodosDeConversion[origen + \"a\" + destino]\n",
    "    else:\n",
    "        resultado = \"Parámetro incorrecto. Ingrese C/F/K\"\n",
    "\n",
    "    return resultado\n",
    "\n",
    "print(conversorGradosCoFoK(20, \"C\", \"F\"))"
   ]
  },
  {
   "attachments": {},
   "cell_type": "markdown",
   "metadata": {},
   "source": [
    "6) Iterando una lista con los tres valores posibles de temperatura que recibe la función del punto 5, hacer un print para cada combinación de los mismos:"
   ]
  },
  {
   "cell_type": "code",
   "execution_count": 47,
   "metadata": {},
   "outputs": [
    {
     "name": "stdout",
     "output_type": "stream",
     "text": [
      "1°C es equivalente a 1°C\n",
      "1°C es equivalente a 33.8°F\n",
      "1°C es equivalente a 274.15°K\n",
      "1°F es equivalente a -17.22222222222222°C\n",
      "1°F es equivalente a 1°F\n",
      "1°F es equivalente a 255.92777777777775°K\n",
      "1°K es equivalente a -272.15°C\n",
      "1°K es equivalente a -457.87°F\n",
      "1°K es equivalente a 1°K\n"
     ]
    }
   ],
   "source": [
    "metricas=[\"C\", \"F\", \"K\"]\n",
    "\n",
    "for i in metricas:\n",
    "    for j in metricas:\n",
    "        print(f\"1°{i} es equivalente a {conversorGradosCoFoK(1,i,j)}°{j}\")"
   ]
  },
  {
   "attachments": {},
   "cell_type": "markdown",
   "metadata": {},
   "source": [
    "7) Armar una función que devuelva el factorial de un número. Tener en cuenta que el usuario puede equivocarse y enviar de parámetro un número no entero o negativo"
   ]
  },
  {
   "cell_type": "code",
   "execution_count": 48,
   "metadata": {},
   "outputs": [
    {
     "name": "stdout",
     "output_type": "stream",
     "text": [
      "6\n"
     ]
    }
   ],
   "source": [
    "def factorial(num):\n",
    "    if(type(num) != int):\n",
    "        return 'El numero debe ser un entero'\n",
    "    \n",
    "    if(num < 0):\n",
    "        return 'El numero debe ser positivo'\n",
    "    \n",
    "    if (num > 1):\n",
    "        num = num * factorial(num - 1)\n",
    "\n",
    "    return num\n",
    "\n",
    "print(factorial(3))"
   ]
  }
 ],
 "metadata": {
  "interpreter": {
   "hash": "c85384e4cb51c8b72350f3a8712cc8351fdc3955e32a27f9b60c6242ab125f01"
  },
  "kernelspec": {
   "display_name": "Python 3 (ipykernel)",
   "language": "python",
   "name": "python3"
  },
  "language_info": {
   "codemirror_mode": {
    "name": "ipython",
    "version": 3
   },
   "file_extension": ".py",
   "mimetype": "text/x-python",
   "name": "python",
   "nbconvert_exporter": "python",
   "pygments_lexer": "ipython3",
   "version": "3.11.0"
  }
 },
 "nbformat": 4,
 "nbformat_minor": 4
}
